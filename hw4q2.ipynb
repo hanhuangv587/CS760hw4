{
 "cells": [
  {
   "cell_type": "code",
   "execution_count": 1,
   "metadata": {},
   "outputs": [],
   "source": [
    "# read txt files in languageID folder as strings\n",
    "\n",
    "import os\n",
    "\n",
    "# read txt files in languageID folder as strings\n",
    "\n",
    "\n",
    "def read_files(path):\n",
    "    for root, dirs, files in os.walk(path):\n",
    "        for file in files:\n",
    "            if file.endswith(\".txt\"):\n",
    "                with open(os.path.join(root, file), 'r') as f:\n",
    "                    text = f.read()\n",
    "                    yield text\n",
    "\n",
    "\n",
    "# read files\n",
    "path = 'languageID'\n",
    "files = read_files(path)\n"
   ]
  },
  {
   "cell_type": "code",
   "execution_count": 2,
   "metadata": {},
   "outputs": [],
   "source": [
    "# get string of each file and store in a list\n",
    "file_list = []\n",
    "for file in files:\n",
    "    file_list.append(file)\n",
    "\n",
    "# get the number of files\n",
    "num_files = len(file_list)\n",
    "\n",
    "# get the number of characters in each file\n",
    "num_chars = []\n",
    "for file in file_list:\n",
    "    num_chars.append(len(file))\n",
    "\n",
    "# remove \\n in each file\n",
    "for i in range(num_files):\n",
    "    file_list[i] = file_list[i].replace('\\n', '')"
   ]
  },
  {
   "cell_type": "code",
   "execution_count": 3,
   "metadata": {},
   "outputs": [],
   "source": [
    "# create a dataframe for the frequency of each character in each file in training data\n",
    "import pandas as pd\n",
    "import numpy as np\n",
    "\n",
    "# create a dataframe for the count of each character in each file\n",
    "df = pd.DataFrame(np.zeros((num_files, 26)), columns=list('abcdefghijklmnopqrstuvwxyz'))\n",
    "for i in range(num_files):\n",
    "    for char in file_list[i]:\n",
    "        if char.isalpha():\n",
    "            df.loc[i, char.lower()] += 1\n",
    "\n",
    "# count the number of space in each file and add it to the dataframe\n",
    "num_space = []\n",
    "for file in file_list:\n",
    "    num_space.append(file.count(' '))\n",
    "df['space'] = num_space"
   ]
  },
  {
   "cell_type": "code",
   "execution_count": 4,
   "metadata": {},
   "outputs": [
    {
     "name": "stdout",
     "output_type": "stream",
     "text": [
      "theta_e = [0.0616 0.012  0.0216 0.0219 0.1075 0.0202 0.0145 0.0478 0.0524 0.0006\n",
      " 0.0043 0.031  0.0228 0.056  0.0663 0.0155 0.0008 0.0488 0.0622 0.0868\n",
      " 0.025  0.009  0.0161 0.0011 0.0134 0.0005 0.1802]\n"
     ]
    }
   ],
   "source": [
    "# add file 1-10 together, calculate the frequency of each character with smoothing parameter 0.5\n",
    "df1 = df.iloc[0:10, :]\n",
    "df1 = df1.sum(axis=0)\n",
    "df1 = (df1 + 0.5) / (df1.sum() + 0.5 * 27)\n",
    "# turn the dataframe into a vector\n",
    "theta_e = df1.values\n",
    "# print(theta_e) round to 4 decimal places\n",
    "print('theta_e =', np.round(theta_e, 4))"
   ]
  },
  {
   "cell_type": "code",
   "execution_count": 5,
   "metadata": {},
   "outputs": [
    {
     "name": "stdout",
     "output_type": "stream",
     "text": [
      "theta_j = [1.317e-01 9.200e-03 5.700e-03 1.600e-02 6.000e-02 3.300e-03 1.620e-02\n",
      " 3.120e-02 1.004e-01 2.300e-03 5.710e-02 1.000e-03 4.120e-02 5.600e-02\n",
      " 8.990e-02 1.000e-03 1.000e-04 4.350e-02 4.160e-02 5.950e-02 6.920e-02\n",
      " 2.000e-04 2.060e-02 1.000e-04 1.410e-02 7.500e-03 1.228e-01]\n"
     ]
    }
   ],
   "source": [
    "# add file 21-30 together, calculate the frequency of each character with smoothing parameter 0.5\n",
    "df2 = df.iloc[20:30, :]\n",
    "df2 = df2.sum(axis=0)\n",
    "df2 = (df2 + 0.5) / (df2.sum() + 0.5 * 27)\n",
    "# turn the dataframe into a vector\n",
    "theta_j = df2.values\n",
    "# print(theta_j) round to 4 decimal places\n",
    "print('theta_j =', np.round(np.ceil(theta_j * 10000) / 10000, 4))"
   ]
  },
  {
   "cell_type": "code",
   "execution_count": 6,
   "metadata": {},
   "outputs": [
    {
     "name": "stdout",
     "output_type": "stream",
     "text": [
      "theta_s = [0.1035 0.0103 0.0365 0.0422 0.1149 0.0072 0.0067 0.005  0.0503 0.0064\n",
      " 0.0002 0.0511 0.0244 0.0557 0.0703 0.0251 0.0081 0.0578 0.0676 0.035\n",
      " 0.0363 0.0059 0.0004 0.0023 0.0059 0.004  0.1671]\n"
     ]
    }
   ],
   "source": [
    "# add file 41-50 together, calculate the frequency of each character with smoothing parameter 0.5\n",
    "df3 = df.iloc[40:50, :]\n",
    "df3 = df3.sum(axis=0)\n",
    "df3 = (df3 + 0.5) / (df3.sum() + 0.5 * 27)\n",
    "# turn the dataframe into a vector\n",
    "theta_s = df3.values\n",
    "# print(theta_s) round to 4 decimal places withous scientific notation\n",
    "print('theta_s =', np.round(theta_s, 4))"
   ]
  },
  {
   "cell_type": "code",
   "execution_count": 7,
   "metadata": {},
   "outputs": [
    {
     "name": "stdout",
     "output_type": "stream",
     "text": [
      "x = [126  16  31  37 166  32  21  57  98   0   7  57  43 100  90  29   0  84\n",
      " 105 118  46  15  24   3  23   1 302]\n"
     ]
    }
   ],
   "source": [
    "# turn row 11 of the dataframe into a vector and print it as integer\n",
    "x = df.iloc[10, :]\n",
    "x = x.values\n",
    "print('x =', x.astype(int))"
   ]
  },
  {
   "cell_type": "code",
   "execution_count": 8,
   "metadata": {},
   "outputs": [
    {
     "name": "stdout",
     "output_type": "stream",
     "text": [
      "prob_x_e = -4598.3361\n"
     ]
    }
   ],
   "source": [
    "# calculate multiplication of theta_e ** x\n",
    "prob_x_e = np.log(theta_e) * x\n",
    "prob_x_e = prob_x_e.sum()\n",
    "# print(prob_x_e) round to 4 decimal places\n",
    "print('prob_x_e =', np.round(prob_x_e, 4))"
   ]
  },
  {
   "cell_type": "code",
   "execution_count": 9,
   "metadata": {},
   "outputs": [
    {
     "name": "stdout",
     "output_type": "stream",
     "text": [
      "prob_x_j = -5109.9019\n"
     ]
    }
   ],
   "source": [
    "# calculate multiplication of theta_j ** x\n",
    "prob_x_j = np.log(theta_j) * x\n",
    "prob_x_j = prob_x_j.sum()\n",
    "# print(prob_x_j) round to 4 decimal places\n",
    "print('prob_x_j =', np.round(prob_x_j, 4))"
   ]
  },
  {
   "cell_type": "code",
   "execution_count": 10,
   "metadata": {},
   "outputs": [
    {
     "name": "stdout",
     "output_type": "stream",
     "text": [
      "prob_x_s = -4838.8468\n"
     ]
    }
   ],
   "source": [
    "# calculate multiplication of theta_s ** x\n",
    "prob_x_s = np.log(theta_s) * x\n",
    "prob_x_s = prob_x_s.sum()\n",
    "# print(prob_x_s) round to 4 decimal places\n",
    "print('prob_x_s =', np.round(prob_x_s, 4))"
   ]
  },
  {
   "cell_type": "code",
   "execution_count": 11,
   "metadata": {},
   "outputs": [],
   "source": [
    "# take row 11-20, 31-40 and 51-60 of df as test data\n",
    "df_test = df.iloc[10:20, :]\n",
    "df_test = pd.concat([df_test, df.iloc[30:40, :]])\n",
    "df_test = pd.concat([df_test, df.iloc[50:60, :]])\n",
    "# turn the dataframe into a matrix\n",
    "X_test = df_test.values"
   ]
  },
  {
   "cell_type": "code",
   "execution_count": 12,
   "metadata": {},
   "outputs": [],
   "source": [
    "# multiply theta_e as a 27 * 30 matrix\n",
    "prob_e = np.log(np.tile(theta_e, (30, 1))) * X_test\n",
    "# sum each row\n",
    "prob_e = prob_e.sum(axis=1)"
   ]
  },
  {
   "cell_type": "code",
   "execution_count": 13,
   "metadata": {},
   "outputs": [],
   "source": [
    "# multiply theta_j as a 27 * 30 matrix\n",
    "prob_j = np.log(np.tile(theta_j, (30, 1))) * X_test\n",
    "# sum each row\n",
    "prob_j = prob_j.sum(axis=1)"
   ]
  },
  {
   "cell_type": "code",
   "execution_count": 14,
   "metadata": {},
   "outputs": [],
   "source": [
    "# multiply theta_s as a 27 * 30 matrix\n",
    "prob_s = np.log(np.tile(theta_s, (30, 1))) * X_test\n",
    "# sum each row\n",
    "prob_s = prob_s.sum(axis=1)"
   ]
  },
  {
   "cell_type": "code",
   "execution_count": 15,
   "metadata": {},
   "outputs": [],
   "source": [
    "# combine the three vectors into a matrix\n",
    "prob = np.vstack((prob_e, prob_j, prob_s))\n",
    "# find the index of the maximum value in each row\n",
    "pred = np.argmax(prob, axis=0)"
   ]
  },
  {
   "cell_type": "code",
   "execution_count": null,
   "metadata": {},
   "outputs": [],
   "source": []
  }
 ],
 "metadata": {
  "kernelspec": {
   "display_name": "Pycharm",
   "language": "python",
   "name": "python3"
  },
  "language_info": {
   "codemirror_mode": {
    "name": "ipython",
    "version": 3
   },
   "file_extension": ".py",
   "mimetype": "text/x-python",
   "name": "python",
   "nbconvert_exporter": "python",
   "pygments_lexer": "ipython3",
   "version": "3.10.9"
  },
  "orig_nbformat": 4
 },
 "nbformat": 4,
 "nbformat_minor": 2
}
